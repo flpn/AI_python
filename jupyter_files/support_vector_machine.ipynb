{
 "cells": [
  {
   "cell_type": "code",
   "execution_count": 4,
   "metadata": {},
   "outputs": [
    {
     "name": "stdout",
     "output_type": "stream",
     "text": [
      "0.942857142857\n",
      "[2 2]\n"
     ]
    }
   ],
   "source": [
    "import pandas as pd\n",
    "import numpy as np\n",
    "from sklearn import svm\n",
    "from sklearn.model_selection import train_test_split\n",
    "\n",
    "\n",
    "data_set = pd.read_csv('../data_sets/breast-cancer-wisconsin.txt')\n",
    "data_set.replace('?', -99999, inplace=True)\n",
    "data_set.drop('id', 1, inplace=True)\n",
    "\n",
    "X = np.array(data_set.drop('class', 1))\n",
    "y = np.array(data_set['class'])\n",
    "\n",
    "X_train, X_test, y_train, y_test = train_test_split(X, y, test_size=0.2)\n",
    "\n",
    "classifier = svm.SVC()\n",
    "classifier.fit(X_train, y_train)\n",
    "accuracy = classifier.score(X_test, y_test)\n",
    "\n",
    "example_measures = np.array([[4, 2, 1, 1, 1, 2, 3, 2, 1], [4, 2, 1, 1, 1, 2, 3, 2, 1]])\n",
    "example_measures = example_measures.reshape(len(example_measures), -1)\n",
    "prediction = classifier.predict(example_measures)\n",
    "\n",
    "print(accuracy)\n",
    "print(prediction)\n"
   ]
  }
 ],
 "metadata": {
  "kernelspec": {
   "display_name": "Python 3",
   "language": "python",
   "name": "python3"
  },
  "language_info": {
   "codemirror_mode": {
    "name": "ipython",
    "version": 3
   },
   "file_extension": ".py",
   "mimetype": "text/x-python",
   "name": "python",
   "nbconvert_exporter": "python",
   "pygments_lexer": "ipython3",
   "version": "3.5.3"
  }
 },
 "nbformat": 4,
 "nbformat_minor": 2
}
