{
 "cells": [
  {
   "cell_type": "code",
   "execution_count": 46,
   "metadata": {},
   "outputs": [
    {
     "name": "stdout",
     "output_type": "stream",
     "text": [
      "0.3139801375095493\n"
     ]
    }
   ],
   "source": [
    "import numpy as np\n",
    "import pandas as pd\n",
    "from matplotlib import style\n",
    "from sklearn.cluster import KMeans\n",
    "from sklearn import preprocessing\n",
    "\n",
    "\n",
    "style.use('ggplot')\n",
    "\n",
    "\n",
    "def handle_non_numerical_data(data_frame):\n",
    "    columns = data_frame.columns.values\n",
    "    \n",
    "    for column in columns:\n",
    "        text_digit_values = {}\n",
    "        \n",
    "        if data_frame[column].dtype != np.int64 and data_frame[column].dtype != np.float64:\n",
    "            x = 0\n",
    "            column_contents = data_frame[column].values.tolist()\n",
    "            unique_elements = set(column_contents)\n",
    "            \n",
    "            for element in unique_elements:\n",
    "                if element not in text_digit_values:\n",
    "                    text_digit_values[element] = x\n",
    "                    x += 1\n",
    "        \n",
    "            data_frame[column] = list(map(lambda val: text_digit_values[val], data_frame[column]))\n",
    "    \n",
    "    return data_frame\n",
    "\n",
    "\n",
    "data_frame = pd.read_excel('../data_sets/titanic.xls')\n",
    "data_frame.drop(['name', 'body', 'boat', 'sex'], 1, inplace=True)\n",
    "data_frame.fillna(0, inplace=True)\n",
    "\n",
    "data_frame = handle_non_numerical_data(data_frame)\n",
    "\n",
    "X = np.array(data_frame.drop(['survived'], 1).astype(float))\n",
    "X = preprocessing.scale(X)\n",
    "y = np.array(data_frame['survived'].astype(float))\n",
    "\n",
    "classifier = KMeans(n_clusters=2)\n",
    "classifier.fit(X)\n",
    "\n",
    "correct = 0\n",
    "\n",
    "for i in range(len(X)):\n",
    "    predict_me = np.array(X[i])\n",
    "    predict_me = predict_me.reshape(-1, len(predict_me))\n",
    "    prediction = classifier.predict(predict_me)\n",
    "    \n",
    "    if prediction == y[i]:\n",
    "        correct += 1\n",
    "\n",
    "print(correct / len(X))"
   ]
  }
 ],
 "metadata": {
  "kernelspec": {
   "display_name": "Python 3",
   "language": "python",
   "name": "python3"
  },
  "language_info": {
   "codemirror_mode": {
    "name": "ipython",
    "version": 3
   },
   "file_extension": ".py",
   "mimetype": "text/x-python",
   "name": "python",
   "nbconvert_exporter": "python",
   "pygments_lexer": "ipython3",
   "version": "3.6.2"
  }
 },
 "nbformat": 4,
 "nbformat_minor": 2
}
