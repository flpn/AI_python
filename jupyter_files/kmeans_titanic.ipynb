{
 "cells": [
  {
   "cell_type": "code",
   "execution_count": 20,
   "metadata": {},
   "outputs": [
    {
     "name": "stdout",
     "output_type": "stream",
     "text": [
      "   pclass  survived  sex      age  sibsp  parch  ticket      fare  cabin  \\\n",
      "0       1         1    0  29.0000      0      0     762  211.3375     68   \n",
      "1       1         1    1   0.9167      1      2     538  151.5500     70   \n",
      "2       1         0    0   2.0000      1      2     538  151.5500     70   \n",
      "3       1         0    1  30.0000      1      2     538  151.5500     70   \n",
      "4       1         0    0  25.0000      1      2     538  151.5500     70   \n",
      "\n",
      "   embarked  boat  home.dest  \n",
      "0         3     2         19  \n",
      "1         3    13        222  \n",
      "2         3     0        222  \n",
      "3         3     0        222  \n",
      "4         3     0        222  \n"
     ]
    },
    {
     "name": "stderr",
     "output_type": "stream",
     "text": [
      "c:\\users\\cafe petinho\\appdata\\local\\programs\\python\\python36-32\\lib\\site-packages\\ipykernel_launcher.py:34: FutureWarning: convert_objects is deprecated.  Use the data-type specific converters pd.to_datetime, pd.to_timedelta and pd.to_numeric.\n"
     ]
    }
   ],
   "source": [
    "import numpy as np\n",
    "import pandas as pd\n",
    "import matplotlib.pyplot as plt\n",
    "from matplotlib import style\n",
    "from sklearn.cluster import KMeans\n",
    "\n",
    "\n",
    "style.use('ggplot')\n",
    "\n",
    "\n",
    "def handle_non_numerical_data(data_frame):\n",
    "    columns = data_frame.columns.values\n",
    "    \n",
    "    for column in columns:\n",
    "        text_digit_values = {}\n",
    "        \n",
    "        if data_frame[column].dtype != np.int64 and data_frame[column].dtype != np.float64:\n",
    "            x = 0\n",
    "            column_contents = data_frame[column].values.tolist()\n",
    "            unique_elements = set(column_contents)\n",
    "            \n",
    "            for element in unique_elements:\n",
    "                if element not in text_digit_values:\n",
    "                    text_digit_values[element] = x\n",
    "                    x += 1\n",
    "        \n",
    "            data_frame[column] = list(map(lambda val: text_digit_values[val], data_frame[column]))\n",
    "    \n",
    "    return data_frame\n",
    "\n",
    "\n",
    "data_frame = pd.read_excel('../data_sets/titanic.xls')\n",
    "data_frame.drop(['name', 'body'], 1, inplace=True)\n",
    "data_frame.convert_objects(convert_numeric=True)\n",
    "data_frame.fillna(0, inplace=True)\n",
    "\n",
    "data_frame = handle_non_numerical_data(data_frame)\n",
    "print(data_frame.head())"
   ]
  }
 ],
 "metadata": {
  "kernelspec": {
   "display_name": "Python 3",
   "language": "python",
   "name": "python3"
  },
  "language_info": {
   "codemirror_mode": {
    "name": "ipython",
    "version": 3
   },
   "file_extension": ".py",
   "mimetype": "text/x-python",
   "name": "python",
   "nbconvert_exporter": "python",
   "pygments_lexer": "ipython3",
   "version": "3.6.2"
  }
 },
 "nbformat": 4,
 "nbformat_minor": 2
}
