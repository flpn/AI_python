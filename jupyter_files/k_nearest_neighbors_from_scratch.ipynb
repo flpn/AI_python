{
 "cells": [
  {
   "cell_type": "code",
   "execution_count": 2,
   "metadata": {},
   "outputs": [
    {
     "name": "stdout",
     "output_type": "stream",
     "text": [
      "0.9568345323741008\n"
     ]
    }
   ],
   "source": [
    "import random\n",
    "import warnings\n",
    "from collections import Counter\n",
    "import numpy as np\n",
    "import pandas as pd\n",
    "\n",
    "\n",
    "def k_nearest_neighbors(data_set, predict, k=3):\n",
    "    if len(data_set) >= k:\n",
    "        warnings.warn('K is set to a value less than total voting groups!')\n",
    "\n",
    "    distances = []\n",
    "\n",
    "    for group in data_set:\n",
    "        for features in data_set[group]:\n",
    "            euclidean_distance = np.linalg.norm(np.array(features) - np.array(predict))\n",
    "            distances.append([euclidean_distance, group])\n",
    "\n",
    "    votes = [group[1] for group in sorted(distances)[:k]]\n",
    "    vote_result = Counter(votes).most_common(1)[0][0]\n",
    "\n",
    "    return vote_result\n",
    "\n",
    "\n",
    "data_frame = pd.read_csv('../data_sets/breast-cancer-wisconsin.txt')\n",
    "data_frame.replace('?', -99999, inplace=True)\n",
    "data_frame.drop('id', 1, inplace=True)\n",
    "\n",
    "full_data = data_frame.astype(float).values.tolist()\n",
    "\n",
    "random.shuffle(full_data)\n",
    "test_size = 0.2\n",
    "train_set = {2: [], 4: []}\n",
    "test_set = {2: [], 4: []}\n",
    "train_data = full_data[:-int(test_size * len(full_data))]\n",
    "test_data = full_data[-int(test_size * len(full_data)):]\n",
    "\n",
    "for i in train_data:\n",
    "    train_set[i[-1]].append(i[:-1])\n",
    "\n",
    "for i in test_data:\n",
    "    test_set[i[-1]].append(i[:-1])\n",
    "\n",
    "correct = total = 0\n",
    "\n",
    "for group in test_set:\n",
    "    for data in test_set[group]:\n",
    "        vote = k_nearest_neighbors(train_set, data, 5)\n",
    "\n",
    "        if group == vote:\n",
    "            correct += 1\n",
    "\n",
    "        total += 1\n",
    "\n",
    "print(correct / total)\n"
   ]
  }
 ],
 "metadata": {
  "kernelspec": {
   "display_name": "Python 3",
   "language": "python",
   "name": "python3"
  },
  "language_info": {
   "codemirror_mode": {
    "name": "ipython",
    "version": 3
   },
   "file_extension": ".py",
   "mimetype": "text/x-python",
   "name": "python",
   "nbconvert_exporter": "python",
   "pygments_lexer": "ipython3",
   "version": "3.5.3"
  }
 },
 "nbformat": 4,
 "nbformat_minor": 2
}
